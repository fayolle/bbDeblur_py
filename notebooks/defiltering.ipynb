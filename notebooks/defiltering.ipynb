{
  "nbformat": 4,
  "nbformat_minor": 0,
  "metadata": {
    "colab": {
      "name": "defiltering.ipynb",
      "provenance": []
    },
    "kernelspec": {
      "name": "python3",
      "display_name": "Python 3"
    },
    "language_info": {
      "name": "python"
    }
  },
  "cells": [
    {
      "cell_type": "markdown",
      "source": [
        "# Defiltering for deblurring. \n",
        "Experiments with five defiltering schemes proposed initially for the problem of deblurring noisy images. "
      ],
      "metadata": {
        "id": "y8qybj4BkWt0"
      }
    },
    {
      "cell_type": "markdown",
      "source": [
        "## Usual Python imports "
      ],
      "metadata": {
        "id": "HWeYCgC3kmUv"
      }
    },
    {
      "cell_type": "code",
      "source": [
        "import numpy as np\n",
        "from PIL import Image\n",
        "import skimage\n",
        "import skimage.color\n",
        "import scipy.signal\n",
        "import scipy.fft\n",
        "import matplotlib.pyplot as plt"
      ],
      "metadata": {
        "id": "UAl-azkIkgjz"
      },
      "execution_count": null,
      "outputs": []
    },
    {
      "cell_type": "markdown",
      "source": [
        "## Some helper functions (psf2otf, zero padding, estimate noise, ...)"
      ],
      "metadata": {
        "id": "BafF01bHkoB0"
      }
    },
    {
      "cell_type": "code",
      "source": [
        "def zero_pad(image, shape, position='corner'):\n",
        "    shape = np.asarray(shape, dtype=int)\n",
        "    imshape = np.asarray(image.shape, dtype=int)\n",
        "\n",
        "    if np.alltrue(imshape == shape):\n",
        "        return image\n",
        "\n",
        "    if np.any(shape <= 0):\n",
        "        raise ValueError(\"ZERO_PAD: null or negative shape given\")\n",
        "\n",
        "    dshape = shape - imshape\n",
        "    if np.any(dshape < 0):\n",
        "        raise ValueError(\"ZERO_PAD: target size smaller than source one\")\n",
        "\n",
        "    pad_img = np.zeros(shape, dtype=image.dtype)\n",
        "\n",
        "    idx, idy = np.indices(imshape)\n",
        "\n",
        "    if position == 'center':\n",
        "        if np.any(dshape % 2 != 0):\n",
        "            raise ValueError(\"ZERO_PAD: source and target shapes \"\n",
        "                             \"have different parity.\")\n",
        "        offx, offy = dshape // 2\n",
        "    else:\n",
        "        offx, offy = (0, 0)\n",
        "\n",
        "    pad_img[idx + offx, idy + offy] = image\n",
        "\n",
        "    return pad_img"
      ],
      "metadata": {
        "id": "px07tX-gkq49"
      },
      "execution_count": null,
      "outputs": []
    },
    {
      "cell_type": "code",
      "source": [
        "def psf2otf(psf, shape):\n",
        "    if np.all(psf == 0):\n",
        "        return np.zeros_like(psf)\n",
        "\n",
        "    pad = False\n",
        "\n",
        "    if len(shape) == 3:\n",
        "        pad = True\n",
        "        orig_shape = shape\n",
        "        shape = (shape[0], shape[1])\n",
        "\n",
        "    inshape = psf.shape\n",
        "    psf = zero_pad(psf, shape, position='corner')\n",
        "\n",
        "    for axis, axis_size in enumerate(inshape):\n",
        "        psf = np.roll(psf, -int(axis_size / 2), axis=axis)\n",
        "\n",
        "    if pad:\n",
        "        psf2 = np.zeros(orig_shape)\n",
        "        psf2[:,:,0] = psf\n",
        "    else:\n",
        "        psf2 = psf\n",
        "\n",
        "    #otf = np.fft.fft2(psf)\n",
        "    #otf = scipy.fft.fft2(psf)\n",
        "    otf = scipy.fft.fftn(psf2)\n",
        "\n",
        "    n_ops = np.sum(psf.size * np.log2(psf.shape))\n",
        "    otf = np.real_if_close(otf, tol=n_ops)\n",
        "\n",
        "    return otf"
      ],
      "metadata": {
        "id": "2ck-tqvcky5T"
      },
      "execution_count": null,
      "outputs": []
    },
    {
      "cell_type": "code",
      "source": [
        "def estimate_noise(I):\n",
        "    H = I.shape[0]\n",
        "    W = I.shape[1]\n",
        "    M = np.array([[1, -2, 1], [-2, 4, -2], [1, -2, 1]])\n",
        "    S = np.sum(np.sum(np.abs(scipy.signal.convolve2d(I, M))))\n",
        "    S = S*np.sqrt(0.5*np.pi)/(6.0*(W-2.0)*(H-2.0))\n",
        "    return S "
      ],
      "metadata": {
        "id": "t40Os6Qbk3oi"
      },
      "execution_count": null,
      "outputs": []
    },
    {
      "cell_type": "code",
      "source": [
        "def estimate_nsr(I):\n",
        "    I = skimage.color.rgb2gray(skimage.color.rgba2rgb(I)) if len(I.shape) == 3 else I\n",
        "    en = estimate_noise(I)\n",
        "    nsr = en**2 / np.var(I[:])\n",
        "    return nsr"
      ],
      "metadata": {
        "id": "r2i9e3gDy4qU"
      },
      "execution_count": null,
      "outputs": []
    },
    {
      "cell_type": "code",
      "source": [
        "def reflect(I):\n",
        "    if len(I.shape) == 3:\n",
        "        Is = I[::-1, ::-1, :]\n",
        "    else:\n",
        "        Is = I[::-1, ::-1]\n",
        "    return Is"
      ],
      "metadata": {
        "id": "u2Cx_lQAz0GT"
      },
      "execution_count": null,
      "outputs": []
    },
    {
      "cell_type": "markdown",
      "source": [
        "## Phase corrected Van Cittert"
      ],
      "metadata": {
        "id": "VRRmwCeok-da"
      }
    },
    {
      "cell_type": "code",
      "source": [
        "def pcVC(F, y, maxiter=100):\n",
        "    TM = y.copy()\n",
        "    \n",
        "    for i in range(maxiter):\n",
        "        H = scipy.fft.fftn(F(TM)) / (scipy.fft.fftn(TM)+2.2204e-16)\n",
        "        TM = TM + np.real(scipy.fft.ifftn((scipy.fft.fftn(y)/(H+2.2204e-16)-scipy.fft.fftn(TM)) * np.absolute(H)))\n",
        "    return TM "
      ],
      "metadata": {
        "id": "6_Y-33-Qk6zk"
      },
      "execution_count": null,
      "outputs": []
    },
    {
      "cell_type": "code",
      "source": [
        "def pcVC_nsr(F, y, maxiter=100):\n",
        "    # Use the same formulation as in the paper \n",
        "    nsr = estimate_nsr(y)\n",
        "    a = 100.0*nsr \n",
        "    TM = y.copy()\n",
        "    \n",
        "    for i in range(maxiter):\n",
        "        H = scipy.fft.fftn(F(TM)) / (scipy.fft.fftn(TM)+2.2204e-16)\n",
        "        Hconj = np.conjugate(H)\n",
        "        TM = TM + np.real(scipy.fft.ifftn(Hconj/(np.absolute(H)+a) * (scipy.fft.fftn(y) - H*scipy.fft.fftn(TM))))\n",
        "    return TM "
      ],
      "metadata": {
        "id": "hknGnz8TliVy"
      },
      "execution_count": null,
      "outputs": []
    },
    {
      "cell_type": "markdown",
      "source": [
        "## Modified LM approach"
      ],
      "metadata": {
        "id": "GTfKhBkOlHF_"
      }
    },
    {
      "cell_type": "code",
      "source": [
        "def mLM(F, y, maxiter=100):\n",
        "    nsr = estimate_nsr(y)\n",
        "    a = 100.0*nsr \n",
        "    lm = y.copy()\n",
        "     \n",
        "    for i in range(maxiter):\n",
        "        Flm = F(lm)\n",
        "        H = scipy.fft.fftn(Flm) / (scipy.fft.fftn(lm) + 1e-16)\n",
        "        Hconj = np.conjugate(H)\n",
        "        num = Hconj * (scipy.fft.fftn(y - Flm))\n",
        "        denom = (Hconj * H + a)\n",
        "        lm = lm + np.real(scipy.fft.ifftn(num/denom))\n",
        "\n",
        "    return lm"
      ],
      "metadata": {
        "id": "EnfdHDaLlKl5"
      },
      "execution_count": null,
      "outputs": []
    },
    {
      "cell_type": "markdown",
      "source": [
        "## Modified Wiener"
      ],
      "metadata": {
        "id": "K44FLIlhn3Xh"
      }
    },
    {
      "cell_type": "code",
      "source": [
        "def mW(F, y, maxiter=100):\n",
        "    nsr = estimate_nsr(y)\n",
        "    #a = 100.0*nsr\n",
        "    a = nsr\n",
        "    W = y.copy()\n",
        "    FW = F(W)\n",
        "    H = scipy.fft.fftn(FW) / (scipy.fft.fftn(W) + 1e-16)\n",
        "    for i in range(1, maxiter+1):\n",
        "        H = H*(i-1)/i + scipy.fft.fftn(FW) / (scipy.fft.fftn(W) + 1e-16)/i\n",
        "        Hconj = np.conjugate(H)\n",
        "        W = np.real(scipy.fft.ifftn(Hconj/(Hconj*H + a)*scipy.fft.fftn(y)))\n",
        "        FW = F(W)\n",
        "\n",
        "    return W"
      ],
      "metadata": {
        "id": "18jmJ9YIn629"
      },
      "execution_count": null,
      "outputs": []
    },
    {
      "cell_type": "markdown",
      "source": [
        "## Approximate Landweber"
      ],
      "metadata": {
        "id": "ycafesR7ptod"
      }
    },
    {
      "cell_type": "code",
      "source": [
        "def aL(F, y, maxiter=500):\n",
        "    L = y.copy()\n",
        "    \n",
        "    for i in range(maxiter):\n",
        "        hp = y - F(L)\n",
        "        hp = reflect(hp)\n",
        "        d = (F(L+hp) - F(L-hp))/2.0\n",
        "        d = reflect(d)\n",
        "        L = L + d\n",
        "    \n",
        "    return L"
      ],
      "metadata": {
        "id": "XCRU5CQvpy0K"
      },
      "execution_count": null,
      "outputs": []
    },
    {
      "cell_type": "markdown",
      "source": [
        "## Modified Richardson-Lucy"
      ],
      "metadata": {
        "id": "r_azvbNtq7Fa"
      }
    },
    {
      "cell_type": "code",
      "source": [
        "def mRL(F, y, maxiter=500):\n",
        "    RL = y.copy()\n",
        "\n",
        "    for i in range(maxiter):\n",
        "        r1 = F(RL)/(np.abs(y)+1e-16)\n",
        "        r1 = reflect(r1)\n",
        "        r2 = F(r1)\n",
        "        r2 = reflect(r2)\n",
        "        RL = RL / (np.abs(r2)+1e-16)\n",
        "\n",
        "        r1 = y / (np.abs(F(RL))+1e-16)\n",
        "        r1 = reflect(r1)\n",
        "        r2 = F(r1)\n",
        "        r2 = reflect(r2)\n",
        "        RL = RL * r2\n",
        "\n",
        "    return RL"
      ],
      "metadata": {
        "id": "bxE-zotvq_Iv"
      },
      "execution_count": null,
      "outputs": []
    },
    {
      "cell_type": "markdown",
      "source": [
        "## Now some experiments with a grayscale image and noisy motion blur"
      ],
      "metadata": {
        "id": "-h3ueA4nlRj8"
      }
    },
    {
      "cell_type": "code",
      "source": [
        "img = Image.open('barbara_face.png')\n",
        "xs = np.asarray(img)\n",
        "xs = skimage.img_as_float(xs)"
      ],
      "metadata": {
        "id": "rU3eSYjjlVPd"
      },
      "execution_count": null,
      "outputs": []
    },
    {
      "cell_type": "markdown",
      "source": [
        "Definition of the filter (noisy motion blur). Gaussian noise is used, and kernel2 is used for the motion blur. "
      ],
      "metadata": {
        "id": "P0NQE3JKlXRT"
      }
    },
    {
      "cell_type": "code",
      "source": [
        "noise_mean = 0\n",
        "noise_var = 0.00001\n",
        "img = Image.open('testkernel2.bmp')\n",
        "h = np.asarray(img)\n",
        "h = skimage.color.rgb2gray(h) if len(h.shape) == 3 else h\n",
        "h = skimage.img_as_float(h)\n",
        "h = h / np.sum(h[:])\n",
        "N = xs.shape[0]\n",
        "M = xs.shape[1]\n",
        "C = 1 if len(xs.shape)!=3 else xs.shape[2]\n",
        "\n",
        "Hf = psf2otf(h, (N,M)) if C == 1 else psf2otf(h, (N,M,C))\n",
        "\n",
        "if C == 1:\n",
        "    f = lambda x: np.real(scipy.fft.ifft2(scipy.fft.fft2(x[:,:])*Hf))\n",
        "else:\n",
        "    f = lambda x: np.real(scipy.fft.ifftn(scipy.fft.fftn(x[:,:,:])*Hf))\n",
        "\n",
        "F = lambda x: skimage.util.random_noise(f(x), mode='gaussian', mean = noise_mean, var = noise_var)\n",
        "\n",
        "y = F(xs)"
      ],
      "metadata": {
        "id": "73sicP52lZxi"
      },
      "execution_count": null,
      "outputs": []
    },
    {
      "cell_type": "markdown",
      "source": [
        "The input and the blurred input image"
      ],
      "metadata": {
        "id": "uHhy3rpPldhQ"
      }
    },
    {
      "cell_type": "code",
      "source": [
        "fig, axes = plt.subplots(1,2, figsize=(18,6))\n",
        "axes[0].imshow(xs, cmap='gray', vmin=0.0, vmax=1.0)\n",
        "axes[0].set_title('Original image')\n",
        "axes[1].imshow(y, cmap='gray', vmin=0.0, vmax=1.0)\n",
        "axes[1].set_title('Observed image')\n",
        "plt.show()"
      ],
      "metadata": {
        "id": "Jywr7bbnlgQT"
      },
      "execution_count": null,
      "outputs": []
    },
    {
      "cell_type": "markdown",
      "source": [
        "Input, phase corrected VC and LM "
      ],
      "metadata": {
        "id": "6EucPBuOlnvM"
      }
    },
    {
      "cell_type": "code",
      "source": [
        "pcvc = pcVC(F, y)\n",
        "mlm = mLM(F, y)\n",
        "mw = mW(F, y)\n",
        "al = aL(F, y)\n",
        "mrl = mRL(F, y)"
      ],
      "metadata": {
        "id": "8c33I055lrTf"
      },
      "execution_count": null,
      "outputs": []
    },
    {
      "cell_type": "code",
      "source": [
        "fig, axes = plt.subplots(1,3, figsize=(18,6))\n",
        "axes[0].imshow(pcvc, cmap='gray', vmin=0.0, vmax=1.0)\n",
        "axes[0].set_title('pcVC')\n",
        "axes[1].imshow(mlm, cmap='gray', vmin=0.0, vmax=1.0)\n",
        "axes[1].set_title('mLM')\n",
        "axes[2].imshow(mw, cmap='gray', vmin=0.0, vmax=1.0)\n",
        "axes[2].set_title('mW')\n",
        "plt.show()"
      ],
      "metadata": {
        "id": "nh8-Th-o0wEg"
      },
      "execution_count": null,
      "outputs": []
    },
    {
      "cell_type": "code",
      "source": [
        "fig, axes = plt.subplots(1,3, figsize=(18,6))\n",
        "axes[0].imshow(xs, cmap='gray', vmin=0.0, vmax=1.0)\n",
        "axes[0].set_title('Original image')\n",
        "axes[1].imshow(al, cmap='gray', vmin=0.0, vmax=1.0)\n",
        "axes[1].set_title('aL')\n",
        "axes[2].imshow(mrl, cmap='gray', vmin=0.0, vmax=1.0)\n",
        "axes[2].set_title('mRL')\n",
        "plt.show()"
      ],
      "metadata": {
        "id": "gMoqwIt0tTDS"
      },
      "execution_count": null,
      "outputs": []
    },
    {
      "cell_type": "markdown",
      "source": [
        "## Dealing with color images"
      ],
      "metadata": {
        "id": "jR7YG3GH088U"
      }
    },
    {
      "cell_type": "code",
      "source": [
        "img = Image.open('parrots.png')\n",
        "xs = np.asarray(img)\n",
        "xs = skimage.img_as_float(xs)"
      ],
      "metadata": {
        "id": "_F0QQV7E1Fn3"
      },
      "execution_count": null,
      "outputs": []
    },
    {
      "cell_type": "code",
      "source": [
        "noise_mean = 0\n",
        "noise_var = 0.00001\n",
        "img = Image.open('testkernel2.bmp')\n",
        "h = np.asarray(img)\n",
        "h = skimage.color.rgb2gray(h) if len(h.shape) == 3 else h\n",
        "h = skimage.img_as_float(h)\n",
        "h = h / np.sum(h[:])\n",
        "N = xs.shape[0]\n",
        "M = xs.shape[1]\n",
        "C = 1 if len(xs.shape)!=3 else xs.shape[2]\n",
        "\n",
        "Hf = psf2otf(h, (N,M)) if C == 1 else psf2otf(h, (N,M,C))\n",
        "\n",
        "if C == 1:\n",
        "    f = lambda x: np.real(scipy.fft.ifft2(scipy.fft.fft2(x[:,:])*Hf))\n",
        "else:\n",
        "    f = lambda x: np.real(scipy.fft.ifftn(scipy.fft.fftn(x[:,:,:])*Hf))\n",
        "\n",
        "F = lambda x: skimage.util.random_noise(f(x), mode='gaussian', mean = noise_mean, var = noise_var)\n",
        "\n",
        "y = F(xs)"
      ],
      "metadata": {
        "id": "DJm6s8_R1RyZ"
      },
      "execution_count": null,
      "outputs": []
    },
    {
      "cell_type": "code",
      "source": [
        "fig, axes = plt.subplots(1,2, figsize=(18,6))\n",
        "axes[0].imshow(xs)\n",
        "axes[0].set_title('Original image')\n",
        "axes[1].imshow(y)\n",
        "axes[1].set_title('Observed image')\n",
        "plt.show()"
      ],
      "metadata": {
        "id": "6-_AiYux1WGw"
      },
      "execution_count": null,
      "outputs": []
    },
    {
      "cell_type": "code",
      "source": [
        "pcvc = pcVC(F, y)\n",
        "mlm = mLM(F, y)\n",
        "mw = mW(F, y)\n",
        "al = aL(F, y)\n",
        "mrl = mRL(F, y)"
      ],
      "metadata": {
        "id": "iq_F5Acw1ZD_"
      },
      "execution_count": null,
      "outputs": []
    },
    {
      "cell_type": "code",
      "source": [
        "fig, axes = plt.subplots(1,3, figsize=(18,6))\n",
        "axes[0].imshow(pcvc)\n",
        "axes[0].set_title('pcVC')\n",
        "axes[1].imshow(mlm)\n",
        "axes[1].set_title('mLM')\n",
        "axes[2].imshow(mw)\n",
        "axes[2].set_title('mW')\n",
        "plt.show()"
      ],
      "metadata": {
        "id": "TSJZdXLT1bwL"
      },
      "execution_count": null,
      "outputs": []
    },
    {
      "cell_type": "code",
      "source": [
        "fig, axes = plt.subplots(1,3, figsize=(18,6))\n",
        "axes[0].imshow(xs)\n",
        "axes[0].set_title('Original image')\n",
        "axes[1].imshow(al)\n",
        "axes[1].set_title('aL')\n",
        "axes[2].imshow(mrl)\n",
        "axes[2].set_title('mRL')\n",
        "plt.show()"
      ],
      "metadata": {
        "id": "SGudNc5l1eld"
      },
      "execution_count": null,
      "outputs": []
    },
    {
      "cell_type": "markdown",
      "source": [
        "## Dealing with color images channel by channel\n",
        "I.e. for a given color image, apply the defiltering scheme once for each channel. "
      ],
      "metadata": {
        "id": "EchMJwmnAEY2"
      }
    },
    {
      "cell_type": "code",
      "source": [
        "img = Image.open('parrots.png')\n",
        "xs = np.asarray(img)\n",
        "xs = skimage.img_as_float(xs)"
      ],
      "metadata": {
        "id": "K8DGhe7BAOFz"
      },
      "execution_count": null,
      "outputs": []
    },
    {
      "cell_type": "code",
      "source": [
        "noise_mean = 0\n",
        "noise_var = 0.00001\n",
        "img = Image.open('testkernel2.bmp')\n",
        "h = np.asarray(img)\n",
        "h = skimage.color.rgb2gray(h) if len(h.shape) == 3 else h\n",
        "h = skimage.img_as_float(h)\n",
        "h = h / np.sum(h[:])\n",
        "N = xs.shape[0]\n",
        "M = xs.shape[1]\n",
        "C = 1 if len(xs.shape)!=3 else xs.shape[2]\n",
        "\n",
        "Hf = psf2otf(h, (N,M))\n",
        "\n",
        "f = lambda x: np.real(scipy.fft.ifft2(scipy.fft.fft2(x[:,:])*Hf))\n",
        "F = lambda x: skimage.util.random_noise(f(x), mode='gaussian', mean = noise_mean, var = noise_var)\n",
        "\n",
        "yr = F(xs[:,:,0])\n",
        "yg = F(xs[:,:,1])\n",
        "yb = F(xs[:,:,2])\n",
        "y = np.dstack((yr, yg, yb))"
      ],
      "metadata": {
        "id": "jq4rXYMpASL8"
      },
      "execution_count": null,
      "outputs": []
    },
    {
      "cell_type": "code",
      "source": [
        "pcvcr = pcVC(F, yr)\n",
        "pcvcg = pcVC(F, yg)\n",
        "pcvcb = pcVC(F, yb)\n",
        "pcvc = np.dstack((pcvcr, pcvcg, pcvcb))\n",
        "\n",
        "mlmr = mLM(F, yr)\n",
        "mlmg = mLM(F, yg)\n",
        "mlmb = mLM(F, yb)\n",
        "mlm = np.dstack((mlmr, mlmg, mlmb))\n",
        "\n",
        "mwr = mW(F, yr)\n",
        "mwg = mW(F, yg)\n",
        "mwb = mW(F, yb)\n",
        "mw = np.dstack((mwr, mwg, mwb))\n",
        "\n",
        "alr = aL(F, yr)\n",
        "alg = aL(F, yg)\n",
        "alb = aL(F, yb)\n",
        "al = np.dstack((alr, alg, alb))\n",
        "\n",
        "mrlr = mRL(F, yr)\n",
        "mrlg = mRL(F, yg)\n",
        "mrlb = mRL(F, yb)\n",
        "mrl = np.dstack((mrlr, mrlg, mrlb))"
      ],
      "metadata": {
        "id": "0MarZo2NAvtp"
      },
      "execution_count": null,
      "outputs": []
    },
    {
      "cell_type": "code",
      "source": [
        "fig, axes = plt.subplots(1,3, figsize=(18,6))\n",
        "axes[0].imshow(pcvc)\n",
        "axes[0].set_title('pcVC')\n",
        "axes[1].imshow(mlm)\n",
        "axes[1].set_title('mLM')\n",
        "axes[2].imshow(mw)\n",
        "axes[2].set_title('mW')\n",
        "plt.show()"
      ],
      "metadata": {
        "id": "wAwQhIyhDsiL"
      },
      "execution_count": null,
      "outputs": []
    },
    {
      "cell_type": "code",
      "source": [
        "fig, axes = plt.subplots(1,3, figsize=(18,6))\n",
        "axes[0].imshow(xs)\n",
        "axes[0].set_title('Original image')\n",
        "axes[1].imshow(al)\n",
        "axes[1].set_title('aL')\n",
        "axes[2].imshow(mrl)\n",
        "axes[2].set_title('mRL')\n",
        "plt.show()"
      ],
      "metadata": {
        "id": "hyszIO9pDv1F"
      },
      "execution_count": null,
      "outputs": []
    },
    {
      "cell_type": "markdown",
      "source": [
        "## Compare pcVC and pcVC_nsr"
      ],
      "metadata": {
        "id": "gxPTNrJ4m9En"
      }
    },
    {
      "cell_type": "code",
      "source": [
        "img = Image.open('barbara_face.png')\n",
        "xs = np.asarray(img)\n",
        "xs = skimage.img_as_float(xs)"
      ],
      "metadata": {
        "id": "_6L_XQp2nBX3"
      },
      "execution_count": null,
      "outputs": []
    },
    {
      "cell_type": "code",
      "source": [
        "noise_mean = 0\n",
        "noise_var = 0.00001\n",
        "img = Image.open('testkernel2.bmp')\n",
        "h = np.asarray(img)\n",
        "h = skimage.color.rgb2gray(h) if len(h.shape) == 3 else h\n",
        "h = skimage.img_as_float(h)\n",
        "h = h / np.sum(h[:])\n",
        "N = xs.shape[0]\n",
        "M = xs.shape[1]\n",
        "C = 1 if len(xs.shape)!=3 else xs.shape[2]\n",
        "\n",
        "Hf = psf2otf(h, (N,M)) if C == 1 else psf2otf(h, (N,M,C))\n",
        "\n",
        "if C == 1:\n",
        "    f = lambda x: np.real(scipy.fft.ifft2(scipy.fft.fft2(x[:,:])*Hf))\n",
        "else:\n",
        "    f = lambda x: np.real(scipy.fft.ifftn(scipy.fft.fftn(x[:,:,:])*Hf))\n",
        "\n",
        "F = lambda x: skimage.util.random_noise(f(x), mode='gaussian', mean = noise_mean, var = noise_var)\n",
        "\n",
        "y = F(xs)"
      ],
      "metadata": {
        "id": "vJv9XlOdnMZr"
      },
      "execution_count": null,
      "outputs": []
    },
    {
      "cell_type": "code",
      "source": [
        "pcvc = pcVC(F, y)\n",
        "pcvc_nsr = pcVC_nsr(F, y)"
      ],
      "metadata": {
        "id": "1Y6k22E4nS90"
      },
      "execution_count": null,
      "outputs": []
    },
    {
      "cell_type": "code",
      "source": [
        "fig, axes = plt.subplots(1,3, figsize=(18,6))\n",
        "axes[0].imshow(xs, cmap='gray', vmin=0.0, vmax=1.0)\n",
        "axes[0].set_title('Original image')\n",
        "axes[1].imshow(pcvc, cmap='gray', vmin=0.0, vmax=1.0)\n",
        "axes[1].set_title('pcVC')\n",
        "axes[2].imshow(pcvc_nsr, cmap='gray', vmin=0.0, vmax=1.0)\n",
        "axes[2].set_title('pcVC with nsr regularization')\n",
        "plt.show()"
      ],
      "metadata": {
        "id": "7B2W9Rmdnh-f"
      },
      "execution_count": null,
      "outputs": []
    }
  ]
}